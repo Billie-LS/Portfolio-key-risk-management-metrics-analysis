{
 "cells": [
  {
   "cell_type": "markdown",
   "id": "cefb8c5e-64de-4131-b755-542c117bd2cc",
   "metadata": {},
   "source": [
    "# REFERENCES"
   ]
  },
  {
   "cell_type": "code",
   "execution_count": null,
   "id": "3b25524b-9ba0-46ee-8598-a73331bf3b68",
   "metadata": {},
   "outputs": [],
   "source": [
    "# Drop name column\n",
    "name_df.drop(columns=['name'], inplace=True)"
   ]
  },
  {
   "cell_type": "code",
   "execution_count": null,
   "id": "2643083a-a563-4a9f-9acc-498c59b61a3d",
   "metadata": {},
   "outputs": [],
   "source": [
    "# Use the `drop` function to drop the extra columns\n",
    "name_df.drop(columns=['volume', 'open', 'high', 'low'], inplace=True)"
   ]
  },
  {
   "cell_type": "code",
   "execution_count": null,
   "id": "84455f4f-e270-49fd-8139-49fb4370edb0",
   "metadata": {},
   "outputs": [],
   "source": []
  },
  {
   "cell_type": "code",
   "execution_count": null,
   "id": "c8ff83a1-ac5d-4ff3-96f4-eeef993fb4ec",
   "metadata": {},
   "outputs": [],
   "source": [
    "# Use the `concat` function to combine the two DataFrames \n",
    "combined_df = pd.concat([one_df, another_df], axis=1, join='inner')\n",
    "\n",
    "# Drop the extra columns from the DataFrame\n",
    "combined_df.drop(columns=['a_column', 'b_column', 'c_column', 'd_column'], inplace=True)\n",
    "\n",
    "# Rename the columns by modifying the columns DataFrame attribute\n",
    "combined_df.columns = ['e_column', 'f_column']\n",
    "\n",
    "# Calculate the correlation of closing prices between E and F\n",
    "price_correlation = combined_df.corr()\n",
    "\n",
    "# Heat map correlation\n",
    "sns.heatmap(price_correlation, annot=True, vmin=-1, vmax=1, fmt=\".2f\", cmap=\"Spectral\")"
   ]
  },
  {
   "cell_type": "code",
   "execution_count": null,
   "id": "2011dfec-f7f3-4b74-a680-847aff4e8f13",
   "metadata": {},
   "outputs": [],
   "source": []
  },
  {
   "cell_type": "code",
   "execution_count": null,
   "id": "2cc0068c-d9bc-41e6-9b21-a8b5f38686cb",
   "metadata": {},
   "outputs": [],
   "source": [
    "# Calculate the daily average price and add column 'avg_price'\n",
    "name_df['avg_price']= name_df.mean(axis=1)"
   ]
  },
  {
   "cell_type": "code",
   "execution_count": null,
   "id": "aeee21aa-f4d3-4813-b72f-deead3f94e58",
   "metadata": {},
   "outputs": [],
   "source": [
    "# Plot a rolling 7-day mean of name's closing prices\n",
    "name_df.rolling(window=7).mean().plot()\n",
    "\n",
    "# Plot a rolling 30-day mean of name's closing prices\n",
    "name_df.rolling(window=30).mean().plot()"
   ]
  },
  {
   "cell_type": "code",
   "execution_count": null,
   "id": "865fca58-8108-4b27-b3f0-ac82d827973b",
   "metadata": {},
   "outputs": [],
   "source": [
    "# Plot a rolling 30-day std dev of name's closing prices\n",
    "name_df.rolling(window=30).std().plot()"
   ]
  },
  {
   "cell_type": "code",
   "execution_count": null,
   "id": "f9893016-fa8c-4c07-80ff-5e12c82b901e",
   "metadata": {},
   "outputs": [],
   "source": [
    "# Set figure of the daily closing prices of name\n",
    "ax = name_df.plot()\n",
    "\n",
    "# Plot 30-Day Rolling Mean on the same figure\n",
    "name_df.rolling(window=30).mean().plot(ax=ax)\n",
    "\n",
    "# Set the legend of the figure\n",
    "ax.legend([\"aapl\", \"aapl 30 Day Mean\"])\n"
   ]
  },
  {
   "cell_type": "markdown",
   "id": "96fd811e-070e-488a-9fa3-e444bd7e5b42",
   "metadata": {},
   "source": [
    "### MEAN\n",
    "\n",
    "   $\\mu = \\frac{\\sum{x_{i}}}{n}$\n",
    "\n",
    "the average sum value for a given `list` or `Series`\n",
    "\n",
    "### VARIANCE\n",
    "\n",
    "   ${S}^2 = \\frac{\\sum{ (x_{i} - \\mu })^{2}}{ n - 1}$\n",
    "   \n",
    "the squared average change around the mean.\n",
    "\n",
    "### STANDARD DEVIATION\n",
    "\n",
    " $\\sigma = \\sqrt{S^{2}}$\n",
    "\n",
    "the square root of the variance."
   ]
  },
  {
   "cell_type": "code",
   "execution_count": null,
   "id": "fe0dba06-112a-4736-8ddb-d1838d23f16f",
   "metadata": {},
   "outputs": [],
   "source": []
  },
  {
   "cell_type": "code",
   "execution_count": null,
   "id": "d27a51a3-bfe8-4b91-8c01-9cd87e81406b",
   "metadata": {},
   "outputs": [],
   "source": [
    "# Concatenate dataframes into one dataframe\n",
    "combined_df = pd.concat([one_df, another_df], axis=1, join=\"inner\")"
   ]
  },
  {
   "cell_type": "code",
   "execution_count": null,
   "id": "eb72f05e-3ad6-4536-b0a0-584c5f48f57c",
   "metadata": {},
   "outputs": [],
   "source": [
    "# Calculate the daily percent changes and drop n/a values\n",
    "daily_returns_df = name_df.pct_change().dropna()"
   ]
  },
  {
   "cell_type": "code",
   "execution_count": null,
   "id": "fcf9408c-8595-4e50-826b-7f6f5ec89448",
   "metadata": {},
   "outputs": [],
   "source": [
    "# Plot the daily returns\n",
    "daily_returns_df.plot(\n",
    "    figsize=(10,5),\n",
    "    title='daily returns',\n",
    "    color='red'\n",
    ")"
   ]
  },
  {
   "cell_type": "code",
   "execution_count": null,
   "id": "1c667e38-7d3b-4830-8998-9d1f8f48f8ee",
   "metadata": {},
   "outputs": [],
   "source": [
    "# Calculate the cumulative returns using the 'cumprod()' function\n",
    "cumulative_returns = (1 + daily_returns_df).cumprod() - 1"
   ]
  },
  {
   "cell_type": "code",
   "execution_count": null,
   "id": "f9078471-16ae-4760-ad24-2ea487937bfe",
   "metadata": {},
   "outputs": [],
   "source": [
    "# Plot the daily returns over the last x timeframe\n",
    "cumulative_returns.plot(\n",
    "    figsize=(10,5), \n",
    "    title='Cumulative Returns of some_name over the Last x timeframe',\n",
    "    color='green'\n",
    ")"
   ]
  },
  {
   "cell_type": "code",
   "execution_count": null,
   "id": "e48bb1ef-b3b4-4045-a366-2af29177fd6a",
   "metadata": {},
   "outputs": [],
   "source": [
    "# There are 252 trading days in a year\n",
    "year_trading_days = 252\n",
    "\n",
    "# Calculate the annualized average return\n",
    "average_annual_return = daily_returns_df.mean() * year_trading_days"
   ]
  },
  {
   "cell_type": "code",
   "execution_count": null,
   "id": "b8baf897-e7b2-4933-8aa6-86cfe2cd626e",
   "metadata": {},
   "outputs": [],
   "source": [
    "# Sharpe ratio\n",
    "\n",
    "# Calculate the annual average return\n",
    "average_annual_return = daily_returns_df.mean() * year_trading_days\n",
    "\n",
    "# Calculate the annualized standard deviation\n",
    "annualized_standard_deviation = daily_returns_df.std() * np.sqrt(year_trading_days)\n",
    "\n",
    "# Calculate the sharpe ratios\n",
    "sharpe_ratios = average_annual_return / annualized_standard_deviation"
   ]
  },
  {
   "cell_type": "code",
   "execution_count": null,
   "id": "d603fa97-8436-4d34-9355-50eff06da31a",
   "metadata": {},
   "outputs": [],
   "source": [
    "# Calculate variance of all daily returns of some_name vs. S&P 500\n",
    "variance = daily_returns['S&P 500'].var()"
   ]
  },
  {
   "cell_type": "code",
   "execution_count": null,
   "id": "3b94e798-612c-4e17-9d3e-a445444c24b6",
   "metadata": {},
   "outputs": [],
   "source": [
    "# Calculate covariance of all daily returns of some_name vs. S&P 500\n",
    "covariance = daily_returns['some_name'].cov(daily_returns['S&P 500'])"
   ]
  },
  {
   "cell_type": "code",
   "execution_count": null,
   "id": "8c0b92bf-0b47-420d-b2e6-1e63a2904612",
   "metadata": {},
   "outputs": [],
   "source": [
    "# Calculate beta of all daily returns of some_name\n",
    "some_name_beta = covariance / variance"
   ]
  },
  {
   "cell_type": "code",
   "execution_count": null,
   "id": "45ec6c7c-cd50-49c7-8b82-d9f91f50481e",
   "metadata": {},
   "outputs": [],
   "source": [
    "# Calculate the correlation for the daily_returns dataframe using the pearson method.\n",
    "daily_returns.corr(method=\"pearson\")"
   ]
  },
  {
   "cell_type": "code",
   "execution_count": null,
   "id": "0618670c-92d2-4a70-a77f-a788291704c4",
   "metadata": {},
   "outputs": [],
   "source": [
    "# Heat map correlation\n",
    "sns.heatmap(correlation, annot=True, vmin=-1, vmax=1, fmt=\".2f\", cmap=\"Spectral\")"
   ]
  }
 ],
 "metadata": {
  "kernelspec": {
   "display_name": "Python (jupyterlab_dev)",
   "language": "python",
   "name": "jupyterlab_dev"
  },
  "language_info": {
   "codemirror_mode": {
    "name": "ipython",
    "version": 3
   },
   "file_extension": ".py",
   "mimetype": "text/x-python",
   "name": "python",
   "nbconvert_exporter": "python",
   "pygments_lexer": "ipython3",
   "version": "3.7.13"
  }
 },
 "nbformat": 4,
 "nbformat_minor": 5
}
